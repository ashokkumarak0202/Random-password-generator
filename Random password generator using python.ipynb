{
  "nbformat": 4,
  "nbformat_minor": 0,
  "metadata": {
    "colab": {
      "name": "Untitled1.ipynb",
      "provenance": []
    },
    "kernelspec": {
      "name": "python3",
      "display_name": "Python 3"
    },
    "language_info": {
      "name": "python"
    }
  },
  "cells": [
    {
      "cell_type": "code",
      "execution_count": 1,
      "metadata": {
        "colab": {
          "base_uri": "https://localhost:8080/"
        },
        "id": "drrIZRvMYZBV",
        "outputId": "33e4757b-44fd-4aa0-a200-84614839d8ad"
      },
      "outputs": [
        {
          "output_type": "stream",
          "name": "stdout",
          "text": [
            "10\n",
            "g|)Kp#bu9f\n"
          ]
        }
      ],
      "source": [
        "import random\n",
        "import array\n",
        "  \n",
        "\n",
        "MAX_LEN = int(input())\n",
        "  \n",
        "DIGITS = ['0', '1', '2', '3', '4', '5', '6', '7', '8', '9']  \n",
        "LOCASE_CHARACTERS = ['a', 'b', 'c', 'd', 'e', 'f', 'g', 'h', \n",
        "                     'i', 'j', 'k', 'm', 'n', 'o', 'p', 'q',\n",
        "                     'r', 's', 't', 'u', 'v', 'w', 'x', 'y',\n",
        "                     'z']\n",
        "  \n",
        "UPCASE_CHARACTERS = ['A', 'B', 'C', 'D', 'E', 'F', 'G', 'H', \n",
        "                     'I', 'J', 'K', 'M', 'N', 'O', 'p', 'Q',\n",
        "                     'R', 'S', 'T', 'U', 'V', 'W', 'X', 'Y',\n",
        "                     'Z']\n",
        "  \n",
        "SYMBOLS = ['@', '#', '$', '%', '=', ':', '?', '.', '/', '|', '~', '>', \n",
        "           '*', '(', ')', '<']\n",
        "  \n",
        "\n",
        "COMBINED_LIST = DIGITS + UPCASE_CHARACTERS + LOCASE_CHARACTERS + SYMBOLS\n",
        "  \n",
        "\n",
        "rand_digit = random.choice(DIGITS)\n",
        "rand_upper = random.choice(UPCASE_CHARACTERS)\n",
        "rand_lower = random.choice(LOCASE_CHARACTERS)\n",
        "rand_symbol = random.choice(SYMBOLS)\n",
        "  \n",
        "temp_pass = rand_digit + rand_upper + rand_lower + rand_symbol\n",
        "  \n",
        "for x in range(MAX_LEN - 4):\n",
        "    temp_pass = temp_pass + random.choice(COMBINED_LIST)\n",
        "    \n",
        "    \n",
        "    temp_pass_list = array.array('u', temp_pass)\n",
        "    random.shuffle(temp_pass_list)\n",
        "\n",
        "password = \"\"\n",
        "for x in temp_pass_list:\n",
        "        password = password + x\n",
        "\n",
        "print(password)"
      ]
    }
  ]
}